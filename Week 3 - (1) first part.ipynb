{
  "nbformat": 4,
  "nbformat_minor": 0,
  "metadata": {
    "colab": {
      "name": "Olá, este é o Colaboratory",
      "provenance": [],
      "collapsed_sections": [],
      "toc_visible": true,
      "include_colab_link": true
    },
    "kernelspec": {
      "display_name": "Python 3",
      "name": "python3"
    }
  },
  "cells": [
    {
      "cell_type": "markdown",
      "metadata": {
        "id": "view-in-github",
        "colab_type": "text"
      },
      "source": [
        "<a href=\"https://colab.research.google.com/github/alousada/The-Capstone-Project/blob/main/Week%203%20-%20(1)%20first%20part.ipynb\" target=\"_parent\"><img src=\"https://colab.research.google.com/assets/colab-badge.svg\" alt=\"Open In Colab\"/></a>"
      ]
    },
    {
      "cell_type": "markdown",
      "metadata": {
        "id": "5fCEDCU_qrC0"
      },
      "source": [
        "<p><img alt=\"\" src=\"data:image/x-icon;base64,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\"  height=\"70px\" align=\"left\" hspace=\"10px\" vspace=\"0px\"></p>\n",
        "\n",
        "<h1>Segmenting and Clustering Neighborhoods on Toronto</h1>\n",
        "\n",
        "This scrip will scrap the Wikipedia page to select postal codes data. \n",
        "\n",
        "The main requisites : \n",
        "\n",
        "- The dataframe consist of three columns: PostalCode, Borough, and Neighborhood.\n",
        "- Only process the cells that have an assigned borough.\n",
        "- More than one neighborhood can exist in one postal code area. \n",
        "- If a cell has a borough but a Not assigned neighborhood, then the neighborhood will be the same as the borough.\n",
        "- Clean your Notebook and add Markdown cells to explain your work and any assumptions you are making.\n",
        "- In the last cell of your notebook, use the .shape method to print the number of rows of your dataframe.\n",
        "\n",
        " Wikipedia <a href=\"https://en.wikipedia.org/wiki/List_of_postal_codes_of_Canada:_M\">\n",
        " "
      ]
    },
    {
      "cell_type": "markdown",
      "metadata": {
        "id": "vRxjWlJAwDIf"
      },
      "source": [
        "Install libraries"
      ]
    },
    {
      "cell_type": "code",
      "metadata": {
        "id": "UCk8M17UwDws"
      },
      "source": [
        "!pip install folium"
      ],
      "execution_count": null,
      "outputs": []
    },
    {
      "cell_type": "code",
      "metadata": {
        "id": "MvnUInVnwNIG"
      },
      "source": [
        "!pip install geopy"
      ],
      "execution_count": null,
      "outputs": []
    },
    {
      "cell_type": "markdown",
      "metadata": {
        "id": "8IqzfTgWwA3y"
      },
      "source": [
        ""
      ]
    },
    {
      "cell_type": "code",
      "metadata": {
        "id": "Y2pCaANRwBif"
      },
      "source": [
        "\n",
        "import folium # plotting library\n",
        "from bs4 import BeautifulSoup\n",
        "from sklearn.cluster import KMeans\n",
        "import matplotlib.cm as cm\n",
        "import matplotlib.colors as colors\n",
        "\n",
        "\n",
        "from geopy.geocoders import Nominatim # module to convert an address into latitude and longitude values\n",
        "import requests # library to handle request\n",
        "\n",
        "import pandas as pd # library for data analsysis\n",
        "import numpy as np # library to handle data in a vectorized manner\n",
        "import random # library for random number generation\n",
        "\n",
        "# tranforming json file into a pandas dataframe library\n",
        "import json\n",
        "\n",
        "# libraries for displaying images\n",
        "from IPython.display import Image \n",
        "from IPython.core.display import HTML\n",
        "\n",
        "print('Folium installed')\n",
        "print('Libraries imported.')"
      ],
      "execution_count": null,
      "outputs": []
    }
  ]
}