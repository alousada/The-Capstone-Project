{
  "nbformat": 4,
  "nbformat_minor": 0,
  "metadata": {
    "colab": {
      "name": "The Capstone Project.ipynb",
      "provenance": [],
      "collapsed_sections": []
    },
    "kernelspec": {
      "name": "python3",
      "display_name": "Python 3"
    },
    "language_info": {
      "name": "python"
    }
  },
  "cells": [
    {
      "cell_type": "markdown",
      "metadata": {
        "id": "vfd869naE1wd"
      },
      "source": [
        "\n",
        "<h1>Capstone Project - Foursquare</h1>\n",
        "\n",
        "Project to learn: \n",
        "- Location data manipulation\n",
        "- Understand the use of Foursquare API\n",
        "- Apply the techniques learning in the other units\n"
      ]
    },
    {
      "cell_type": "code",
      "metadata": {
        "id": "pASxVxxRE0oy"
      },
      "source": [
        "### import the pandas library\n",
        "\n",
        "import pandas as pd"
      ],
      "execution_count": null,
      "outputs": []
    },
    {
      "cell_type": "code",
      "metadata": {
        "id": "B8N8SPS2Hb4P"
      },
      "source": [
        "### import Numpy library\n",
        "\n",
        "import numpy as np"
      ],
      "execution_count": null,
      "outputs": []
    },
    {
      "cell_type": "code",
      "metadata": {
        "colab": {
          "base_uri": "https://localhost:8080/"
        },
        "id": "wDv4ZmDIHnPR",
        "outputId": "dd607086-691c-4f0a-a185-6cfcdf7eccde"
      },
      "source": [
        "print (\"Hello Capstone Project Course!\")"
      ],
      "execution_count": null,
      "outputs": [
        {
          "output_type": "stream",
          "text": [
            "Hello Capstone Project Course!\n"
          ],
          "name": "stdout"
        }
      ]
    },
    {
      "cell_type": "code",
      "metadata": {
        "id": "AzASg2svH-C9"
      },
      "source": [
        ""
      ],
      "execution_count": null,
      "outputs": []
    }
  ]
}